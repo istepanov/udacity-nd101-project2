{
 "cells": [
  {
   "cell_type": "markdown",
   "metadata": {
    "collapsed": true,
    "deletable": true,
    "editable": true
   },
   "source": [
    "# Image Classification\n",
    "In this project, you'll classify images from the [CIFAR-10 dataset](https://www.cs.toronto.edu/~kriz/cifar.html).  The dataset consists of airplanes, dogs, cats, and other objects. You'll preprocess the images, then train a convolutional neural network on all the samples. The images need to be normalized and the labels need to be one-hot encoded.  You'll get to apply what you learned and build a convolutional, max pooling, dropout, and fully connected layers.  At the end, you'll get to see your neural network's predictions on the sample images.\n",
    "## Get the Data\n",
    "Run the following cell to download the [CIFAR-10 dataset for python](https://www.cs.toronto.edu/~kriz/cifar-10-python.tar.gz)."
   ]
  },
  {
   "cell_type": "code",
   "execution_count": 1,
   "metadata": {
    "collapsed": false,
    "deletable": true,
    "editable": true
   },
   "outputs": [
    {
     "name": "stdout",
     "output_type": "stream",
     "text": [
      "All files found!\n"
     ]
    }
   ],
   "source": [
    "\"\"\"\n",
    "DON'T MODIFY ANYTHING IN THIS CELL THAT IS BELOW THIS LINE\n",
    "\"\"\"\n",
    "from urllib.request import urlretrieve\n",
    "from os.path import isfile, isdir\n",
    "from tqdm import tqdm\n",
    "import problem_unittests as tests\n",
    "import tarfile\n",
    "\n",
    "cifar10_dataset_folder_path = 'cifar-10-batches-py'\n",
    "\n",
    "class DLProgress(tqdm):\n",
    "    last_block = 0\n",
    "\n",
    "    def hook(self, block_num=1, block_size=1, total_size=None):\n",
    "        self.total = total_size\n",
    "        self.update((block_num - self.last_block) * block_size)\n",
    "        self.last_block = block_num\n",
    "\n",
    "if not isfile('cifar-10-python.tar.gz'):\n",
    "    with DLProgress(unit='B', unit_scale=True, miniters=1, desc='CIFAR-10 Dataset') as pbar:\n",
    "        urlretrieve(\n",
    "            'https://www.cs.toronto.edu/~kriz/cifar-10-python.tar.gz',\n",
    "            'cifar-10-python.tar.gz',\n",
    "            pbar.hook)\n",
    "\n",
    "if not isdir(cifar10_dataset_folder_path):\n",
    "    with tarfile.open('cifar-10-python.tar.gz') as tar:\n",
    "        tar.extractall()\n",
    "        tar.close()\n",
    "\n",
    "\n",
    "tests.test_folder_path(cifar10_dataset_folder_path)"
   ]
  },
  {
   "cell_type": "markdown",
   "metadata": {
    "deletable": true,
    "editable": true
   },
   "source": [
    "## Explore the Data\n",
    "The dataset is broken into batches to prevent your machine from running out of memory.  The CIFAR-10 dataset consists of 5 batches, named `data_batch_1`, `data_batch_2`, etc.. Each batch contains the labels and images that are one of the following:\n",
    "* airplane\n",
    "* automobile\n",
    "* bird\n",
    "* cat\n",
    "* deer\n",
    "* dog\n",
    "* frog\n",
    "* horse\n",
    "* ship\n",
    "* truck\n",
    "\n",
    "Understanding a dataset is part of making predictions on the data.  Play around with the code cell below by changing the `batch_id` and `sample_id`. The `batch_id` is the id for a batch (1-5). The `sample_id` is the id for a image and label pair in the batch.\n",
    "\n",
    "Ask yourself \"What are all possible labels?\", \"What is the range of values for the image data?\", \"Are the labels in order or random?\".  Answers to questions like these will help you preprocess the data and end up with better predictions."
   ]
  },
  {
   "cell_type": "code",
   "execution_count": 2,
   "metadata": {
    "collapsed": false,
    "deletable": true,
    "editable": true
   },
   "outputs": [
    {
     "name": "stdout",
     "output_type": "stream",
     "text": [
      "\n",
      "Stats of batch 1:\n",
      "Samples: 10000\n",
      "Label Counts: {0: 1005, 1: 974, 2: 1032, 3: 1016, 4: 999, 5: 937, 6: 1030, 7: 1001, 8: 1025, 9: 981}\n",
      "First 20 Labels: [6, 9, 9, 4, 1, 1, 2, 7, 8, 3, 4, 7, 7, 2, 9, 9, 9, 3, 2, 6]\n",
      "\n",
      "Example of Image 5:\n",
      "Image - Min Value: 0 Max Value: 252\n",
      "Image - Shape: (32, 32, 3)\n",
      "Label - Label Id: 1 Name: automobile\n"
     ]
    },
    {
     "data": {
      "image/png": "[encoded data removed]",
      "text/plain": [
       "<matplotlib.figure.Figure at 0x7fb4f80da518>"
      ]
     },
     "metadata": {
      "image/png": {
       "height": 250,
       "width": 253
      }
     },
     "output_type": "display_data"
    }
   ],
   "source": [
    "%matplotlib inline\n",
    "%config InlineBackend.figure_format = 'retina'\n",
    "\n",
    "import helper\n",
    "import numpy as np\n",
    "\n",
    "# Explore the dataset\n",
    "batch_id = 1\n",
    "sample_id = 5\n",
    "helper.display_stats(cifar10_dataset_folder_path, batch_id, sample_id)"
   ]
  },
  {
   "cell_type": "markdown",
   "metadata": {
    "deletable": true,
    "editable": true
   },
   "source": [
    "## Implement Preprocess Functions\n",
    "### Normalize\n",
    "In the cell below, implement the `normalize` function to take in image data, `x`, and return it as a normalized Numpy array. The values should be in the range of 0 to 1, inclusive.  The return object should be the same shape as `x`."
   ]
  },
  {
   "cell_type": "code",
   "execution_count": 3,
   "metadata": {
    "collapsed": false,
    "deletable": true,
    "editable": true
   },
   "outputs": [
    {
     "name": "stdout",
     "output_type": "stream",
     "text": [
      "Tests Passed\n"
     ]
    }
   ],
   "source": [
    "def normalize(x):\n",
    "    \"\"\"\n",
    "    Normalize a list of sample image data in the range of 0 to 1\n",
    "    : x: List of image data.  The image shape is (32, 32, 3)\n",
    "    : return: Numpy array of normalize data\n",
    "    \"\"\"\n",
    "    return x/np.max(x)\n",
    "\n",
    "\"\"\"\n",
    "DON'T MODIFY ANYTHING IN THIS CELL THAT IS BELOW THIS LINE\n",
    "\"\"\"\n",
    "tests.test_normalize(normalize)"
   ]
  },
  {
   "cell_type": "markdown",
   "metadata": {
    "deletable": true,
    "editable": true
   },
   "source": [
    "### One-hot encode\n",
    "Just like the previous code cell, you'll be implementing a function for preprocessing.  This time, you'll implement the `one_hot_encode` function. The input, `x`, are a list of labels.  Implement the function to return the list of labels as One-Hot encoded Numpy array.  The possible values for labels are 0 to 9. The one-hot encoding function should return the same encoding for each value between each call to `one_hot_encode`.  Make sure to save the map of encodings outside the function.\n",
    "\n",
    "Hint: Don't reinvent the wheel."
   ]
  },
  {
   "cell_type": "code",
   "execution_count": 4,
   "metadata": {
    "collapsed": false,
    "deletable": true,
    "editable": true
   },
   "outputs": [
    {
     "name": "stdout",
     "output_type": "stream",
     "text": [
      "Tests Passed\n"
     ]
    }
   ],
   "source": [
    "one_hot_encode_map = np.eye(10)\n",
    "\n",
    "def one_hot_encode(x):\n",
    "    \"\"\"\n",
    "    One hot encode a list of sample labels. Return a one-hot encoded vector for each label.\n",
    "    : x: List of sample Labels\n",
    "    : return: Numpy array of one-hot encoded labels\n",
    "    \"\"\"\n",
    "    return one_hot_encode_map[x]\n",
    "\n",
    "\n",
    "\"\"\"\n",
    "DON'T MODIFY ANYTHING IN THIS CELL THAT IS BELOW THIS LINE\n",
    "\"\"\"\n",
    "tests.test_one_hot_encode(one_hot_encode)"
   ]
  },
  {
   "cell_type": "markdown",
   "metadata": {
    "deletable": true,
    "editable": true
   },
   "source": [
    "### Randomize Data\n",
    "As you saw from exploring the data above, the order of the samples are randomized.  It doesn't hurt to randomize it again, but you don't need to for this dataset."
   ]
  },
  {
   "cell_type": "markdown",
   "metadata": {
    "deletable": true,
    "editable": true
   },
   "source": [
    "## Preprocess all the data and save it\n",
    "Running the code cell below will preprocess all the CIFAR-10 data and save it to file. The code below also uses 10% of the training data for validation."
   ]
  },
  {
   "cell_type": "code",
   "execution_count": 5,
   "metadata": {
    "collapsed": false,
    "deletable": true,
    "editable": true
   },
   "outputs": [],
   "source": [
    "\"\"\"\n",
    "DON'T MODIFY ANYTHING IN THIS CELL\n",
    "\"\"\"\n",
    "# Preprocess Training, Validation, and Testing Data\n",
    "helper.preprocess_and_save_data(cifar10_dataset_folder_path, normalize, one_hot_encode)"
   ]
  },
  {
   "cell_type": "markdown",
   "metadata": {
    "deletable": true,
    "editable": true
   },
   "source": [
    "# Check Point\n",
    "This is your first checkpoint.  If you ever decide to come back to this notebook or have to restart the notebook, you can start from here.  The preprocessed data has been saved to disk."
   ]
  },
  {
   "cell_type": "code",
   "execution_count": 6,
   "metadata": {
    "collapsed": true,
    "deletable": true,
    "editable": true
   },
   "outputs": [],
   "source": [
    "\"\"\"\n",
    "DON'T MODIFY ANYTHING IN THIS CELL\n",
    "\"\"\"\n",
    "import pickle\n",
    "import problem_unittests as tests\n",
    "import helper\n",
    "\n",
    "# Load the Preprocessed Validation data\n",
    "valid_features, valid_labels = pickle.load(open('preprocess_validation.p', mode='rb'))"
   ]
  },
  {
   "cell_type": "markdown",
   "metadata": {
    "deletable": true,
    "editable": true
   },
   "source": [
    "## Build the network\n",
    "For the neural network, you'll build each layer into a function.  Most of the code you've seen has been outside of functions. To test your code more thoroughly, we require that you put each layer in a function.  This allows us to give you better feedback and test for simple mistakes using our unittests before you submit your project.\n",
    "\n",
    ">**Note:** If you're finding it hard to dedicate enough time for this course each week, we've provided a small shortcut to this part of the project. In the next couple of problems, you'll have the option to use classes from the [TensorFlow Layers](https://www.tensorflow.org/api_docs/python/tf/layers) or [TensorFlow Layers (contrib)](https://www.tensorflow.org/api_guides/python/contrib.layers) packages to build each layer, except the layers you build in the \"Convolutional and Max Pooling Layer\" section.  TF Layers is similar to Keras's and TFLearn's abstraction to layers, so it's easy to pickup.\n",
    "\n",
    ">However, if you would like to get the most out of this course, try to solve all the problems _without_ using anything from the TF Layers packages. You **can** still use classes from other packages that happen to have the same name as ones you find in TF Layers! For example, instead of using the TF Layers version of the `conv2d` class, [tf.layers.conv2d](https://www.tensorflow.org/api_docs/python/tf/layers/conv2d), you would want to use the TF Neural Network version of `conv2d`, [tf.nn.conv2d](https://www.tensorflow.org/api_docs/python/tf/nn/conv2d). \n",
    "\n",
    "Let's begin!\n",
    "\n",
    "### Input\n",
    "The neural network needs to read the image data, one-hot encoded labels, and dropout keep probability. Implement the following functions\n",
    "* Implement `neural_net_image_input`\n",
    " * Return a [TF Placeholder](https://www.tensorflow.org/api_docs/python/tf/placeholder)\n",
    " * Set the shape using `image_shape` with batch size set to `None`.\n",
    " * Name the TensorFlow placeholder \"x\" using the TensorFlow `name` parameter in the [TF Placeholder](https://www.tensorflow.org/api_docs/python/tf/placeholder).\n",
    "* Implement `neural_net_label_input`\n",
    " * Return a [TF Placeholder](https://www.tensorflow.org/api_docs/python/tf/placeholder)\n",
    " * Set the shape using `n_classes` with batch size set to `None`.\n",
    " * Name the TensorFlow placeholder \"y\" using the TensorFlow `name` parameter in the [TF Placeholder](https://www.tensorflow.org/api_docs/python/tf/placeholder).\n",
    "* Implement `neural_net_keep_prob_input`\n",
    " * Return a [TF Placeholder](https://www.tensorflow.org/api_docs/python/tf/placeholder) for dropout keep probability.\n",
    " * Name the TensorFlow placeholder \"keep_prob\" using the TensorFlow `name` parameter in the [TF Placeholder](https://www.tensorflow.org/api_docs/python/tf/placeholder).\n",
    "\n",
    "These names will be used at the end of the project to load your saved model.\n",
    "\n",
    "Note: `None` for shapes in TensorFlow allow for a dynamic size."
   ]
  },
  {
   "cell_type": "code",
   "execution_count": 7,
   "metadata": {
    "collapsed": false,
    "deletable": true,
    "editable": true
   },
   "outputs": [
    {
     "name": "stdout",
     "output_type": "stream",
     "text": [
      "Image Input Tests Passed.\n",
      "Label Input Tests Passed.\n",
      "Keep Prob Tests Passed.\n"
     ]
    }
   ],
   "source": [
    "import tensorflow as tf\n",
    "\n",
    "def neural_net_image_input(image_shape):\n",
    "    \"\"\"\n",
    "    Return a Tensor for a bach of image input\n",
    "    : image_shape: Shape of the images\n",
    "    : return: Tensor for image input.\n",
    "    \"\"\"\n",
    "    return tf.placeholder(tf.float32, (None,) + image_shape, name='x')\n",
    "\n",
    "\n",
    "def neural_net_label_input(n_classes):\n",
    "    \"\"\"\n",
    "    Return a Tensor for a batch of label input\n",
    "    : n_classes: Number of classes\n",
    "    : return: Tensor for label input.\n",
    "    \"\"\"\n",
    "    return tf.placeholder(tf.float32, (None, n_classes), name='y')\n",
    "\n",
    "\n",
    "def neural_net_keep_prob_input():\n",
    "    \"\"\"\n",
    "    Return a Tensor for keep probability\n",
    "    : return: Tensor for keep probability.\n",
    "    \"\"\"\n",
    "    return tf.placeholder(tf.float32, name='keep_prob')\n",
    "\n",
    "\n",
    "\"\"\"\n",
    "DON'T MODIFY ANYTHING IN THIS CELL THAT IS BELOW THIS LINE\n",
    "\"\"\"\n",
    "tf.reset_default_graph()\n",
    "tests.test_nn_image_inputs(neural_net_image_input)\n",
    "tests.test_nn_label_inputs(neural_net_label_input)\n",
    "tests.test_nn_keep_prob_inputs(neural_net_keep_prob_input)"
   ]
  },
  {
   "cell_type": "markdown",
   "metadata": {
    "deletable": true,
    "editable": true
   },
   "source": [
    "### Convolution and Max Pooling Layer\n",
    "Convolution layers have a lot of success with images. For this code cell, you should implement the function `conv2d_maxpool` to apply convolution then max pooling:\n",
    "* Create the weight and bias using `conv_ksize`, `conv_num_outputs` and the shape of `x_tensor`.\n",
    "* Apply a convolution to `x_tensor` using weight and `conv_strides`.\n",
    " * We recommend you use same padding, but you're welcome to use any padding.\n",
    "* Add bias\n",
    "* Add a nonlinear activation to the convolution.\n",
    "* Apply Max Pooling using `pool_ksize` and `pool_strides`.\n",
    " * We recommend you use same padding, but you're welcome to use any padding.\n",
    "\n",
    "**Note:** You **can't** use [TensorFlow Layers](https://www.tensorflow.org/api_docs/python/tf/layers) or [TensorFlow Layers (contrib)](https://www.tensorflow.org/api_guides/python/contrib.layers) for **this** layer, but you can still use TensorFlow's [Neural Network](https://www.tensorflow.org/api_docs/python/tf/nn) package. You may still use the shortcut option for all the **other** layers."
   ]
  },
  {
   "cell_type": "code",
   "execution_count": 8,
   "metadata": {
    "collapsed": false,
    "deletable": true,
    "editable": true
   },
   "outputs": [
    {
     "name": "stdout",
     "output_type": "stream",
     "text": [
      "Tests Passed\n"
     ]
    }
   ],
   "source": [
    "def conv2d_maxpool(x_tensor, conv_num_outputs, conv_ksize, conv_strides, pool_ksize, pool_strides):\n",
    "    \"\"\"\n",
    "    Apply convolution then max pooling to x_tensor\n",
    "    :param x_tensor: TensorFlow Tensor\n",
    "    :param conv_num_outputs: Number of outputs for the convolutional layer\n",
    "    :param conv_ksize: kernal size 2-D Tuple for the convolutional layer\n",
    "    :param conv_strides: Stride 2-D Tuple for convolution\n",
    "    :param pool_ksize: kernal size 2-D Tuple for pool\n",
    "    :param pool_strides: Stride 2-D Tuple for pool\n",
    "    : return: A tensor that represents convolution and max pooling of x_tensor\n",
    "    \"\"\"\n",
    "    x_shape = x_tensor.get_shape().as_list()\n",
    "    x_depth = x_shape[3]\n",
    "    weights = tf.Variable(\n",
    "        tf.truncated_normal(\n",
    "            (conv_ksize[0], conv_ksize[1], x_depth, conv_num_outputs),\n",
    "            stddev=.1\n",
    "        )\n",
    "    )\n",
    "    biases = tf.Variable(tf.zeros(conv_num_outputs))\n",
    "    \n",
    "    # convolution\n",
    "    conv_layer = tf.nn.conv2d(\n",
    "        x_tensor,\n",
    "        weights,\n",
    "        strides=[1, conv_strides[0], conv_strides[1], 1],\n",
    "        padding='SAME'\n",
    "    ) + biases\n",
    "    conv_layer = tf.nn.relu(conv_layer)\n",
    "    \n",
    "    # max pooling\n",
    "    conv_layer = tf.nn.max_pool(\n",
    "        conv_layer,\n",
    "        ksize=[1, pool_ksize[0], pool_ksize[1], 1],\n",
    "        strides=[1, pool_strides[0], pool_strides[1], 1],\n",
    "        padding='SAME'\n",
    "    )\n",
    "    \n",
    "    return conv_layer \n",
    "\n",
    "\n",
    "\"\"\"\n",
    "DON'T MODIFY ANYTHING IN THIS CELL THAT IS BELOW THIS LINE\n",
    "\"\"\"\n",
    "tests.test_con_pool(conv2d_maxpool)"
   ]
  },
  {
   "cell_type": "markdown",
   "metadata": {
    "deletable": true,
    "editable": true
   },
   "source": [
    "### Flatten Layer\n",
    "Implement the `flatten` function to change the dimension of `x_tensor` from a 4-D tensor to a 2-D tensor.  The output should be the shape (*Batch Size*, *Flattened Image Size*). Shortcut option: you can use classes from the [TensorFlow Layers](https://www.tensorflow.org/api_docs/python/tf/layers) or [TensorFlow Layers (contrib)](https://www.tensorflow.org/api_guides/python/contrib.layers) packages for this layer. For more of a challenge, only use other TensorFlow packages."
   ]
  },
  {
   "cell_type": "code",
   "execution_count": 9,
   "metadata": {
    "collapsed": false,
    "deletable": true,
    "editable": true
   },
   "outputs": [
    {
     "name": "stdout",
     "output_type": "stream",
     "text": [
      "Tests Passed\n"
     ]
    }
   ],
   "source": [
    "def flatten(x_tensor):\n",
    "    \"\"\"\n",
    "    Flatten x_tensor to (Batch Size, Flattened Image Size)\n",
    "    : x_tensor: A tensor of size (Batch Size, ...), where ... are the image dimensions.\n",
    "    : return: A tensor of size (Batch Size, Flattened Image Size).\n",
    "    \"\"\"\n",
    "    x_shape = x_tensor.get_shape().as_list()\n",
    "    flatten_image_size = x_shape[1] * x_shape[2] * x_shape[3]\n",
    "    return tf.reshape(x_tensor, [-1, flatten_image_size])\n",
    "\n",
    "\n",
    "\"\"\"\n",
    "DON'T MODIFY ANYTHING IN THIS CELL THAT IS BELOW THIS LINE\n",
    "\"\"\"\n",
    "tests.test_flatten(flatten)"
   ]
  },
  {
   "cell_type": "markdown",
   "metadata": {
    "deletable": true,
    "editable": true
   },
   "source": [
    "### Fully-Connected Layer\n",
    "Implement the `fully_conn` function to apply a fully connected layer to `x_tensor` with the shape (*Batch Size*, *num_outputs*). Shortcut option: you can use classes from the [TensorFlow Layers](https://www.tensorflow.org/api_docs/python/tf/layers) or [TensorFlow Layers (contrib)](https://www.tensorflow.org/api_guides/python/contrib.layers) packages for this layer. For more of a challenge, only use other TensorFlow packages."
   ]
  },
  {
   "cell_type": "code",
   "execution_count": 10,
   "metadata": {
    "collapsed": false,
    "deletable": true,
    "editable": true
   },
   "outputs": [
    {
     "name": "stdout",
     "output_type": "stream",
     "text": [
      "Tests Passed\n"
     ]
    }
   ],
   "source": [
    "def fully_conn(x_tensor, num_outputs):\n",
    "    \"\"\"\n",
    "    Apply a fully connected layer to x_tensor using weight and bias\n",
    "    : x_tensor: A 2-D tensor where the first dimension is batch size.\n",
    "    : num_outputs: The number of output that the new tensor should be.\n",
    "    : return: A 2-D tensor where the second dimension is num_outputs.\n",
    "    \"\"\"\n",
    "    x_shape = x_tensor.get_shape().as_list()\n",
    "    weights = tf.Variable(tf.truncated_normal((x_shape[1], num_outputs), stddev=.1))\n",
    "    biases = tf.Variable(tf.zeros(num_outputs))\n",
    "    \n",
    "    fully_conn_layer = tf.matmul(x_tensor, weights) + biases\n",
    "    fully_conn_layer = tf.nn.relu(fully_conn_layer)\n",
    "    \n",
    "    return fully_conn_layer\n",
    "\n",
    "\n",
    "\"\"\"\n",
    "DON'T MODIFY ANYTHING IN THIS CELL THAT IS BELOW THIS LINE\n",
    "\"\"\"\n",
    "tests.test_fully_conn(fully_conn)"
   ]
  },
  {
   "cell_type": "markdown",
   "metadata": {
    "deletable": true,
    "editable": true
   },
   "source": [
    "### Output Layer\n",
    "Implement the `output` function to apply a fully connected layer to `x_tensor` with the shape (*Batch Size*, *num_outputs*). Shortcut option: you can use classes from the [TensorFlow Layers](https://www.tensorflow.org/api_docs/python/tf/layers) or [TensorFlow Layers (contrib)](https://www.tensorflow.org/api_guides/python/contrib.layers) packages for this layer. For more of a challenge, only use other TensorFlow packages.\n",
    "\n",
    "**Note:** Activation, softmax, or cross entropy should **not** be applied to this."
   ]
  },
  {
   "cell_type": "code",
   "execution_count": 11,
   "metadata": {
    "collapsed": false,
    "deletable": true,
    "editable": true
   },
   "outputs": [
    {
     "name": "stdout",
     "output_type": "stream",
     "text": [
      "Tests Passed\n"
     ]
    }
   ],
   "source": [
    "def output(x_tensor, num_outputs):\n",
    "    \"\"\"\n",
    "    Apply a output layer to x_tensor using weight and bias\n",
    "    : x_tensor: A 2-D tensor where the first dimension is batch size.\n",
    "    : num_outputs: The number of output that the new tensor should be.\n",
    "    : return: A 2-D tensor where the second dimension is num_outputs.\n",
    "    \"\"\"\n",
    "    x_shape = x_tensor.get_shape().as_list()\n",
    "    weights = tf.Variable(tf.truncated_normal((x_shape[1], num_outputs), stddev=.1))\n",
    "    biases = tf.Variable(tf.zeros(num_outputs))\n",
    "    \n",
    "    output_layer = tf.matmul(x_tensor, weights) + biases\n",
    "    \n",
    "    return output_layer\n",
    "\n",
    "\n",
    "\"\"\"\n",
    "DON'T MODIFY ANYTHING IN THIS CELL THAT IS BELOW THIS LINE\n",
    "\"\"\"\n",
    "tests.test_output(output)"
   ]
  },
  {
   "cell_type": "markdown",
   "metadata": {
    "deletable": true,
    "editable": true
   },
   "source": [
    "### Create Convolutional Model\n",
    "Implement the function `conv_net` to create a convolutional neural network model. The function takes in a batch of images, `x`, and outputs logits.  Use the layers you created above to create this model:\n",
    "\n",
    "* Apply 1, 2, or 3 Convolution and Max Pool layers\n",
    "* Apply a Flatten Layer\n",
    "* Apply 1, 2, or 3 Fully Connected Layers\n",
    "* Apply an Output Layer\n",
    "* Return the output\n",
    "* Apply [TensorFlow's Dropout](https://www.tensorflow.org/api_docs/python/tf/nn/dropout) to one or more layers in the model using `keep_prob`. "
   ]
  },
  {
   "cell_type": "code",
   "execution_count": 12,
   "metadata": {
    "collapsed": false,
    "deletable": true,
    "editable": true
   },
   "outputs": [
    {
     "name": "stdout",
     "output_type": "stream",
     "text": [
      "Neural Network Built!\n"
     ]
    }
   ],
   "source": [
    "def conv_net(x, keep_prob):\n",
    "    \"\"\"\n",
    "    Create a convolutional neural network model\n",
    "    : x: Placeholder tensor that holds image data.\n",
    "    : keep_prob: Placeholder tensor that hold dropout keep probability.\n",
    "    : return: Tensor that represents logits\n",
    "    \"\"\"\n",
    "    # 3 Convolution and Max Pool layers\n",
    "    # conv2d_maxpool(x_tensor, conv_num_outputs, conv_ksize, conv_strides, pool_ksize, pool_strides)\n",
    "    x_tensor = conv2d_maxpool(x, 16, (3, 3), (2, 2), (2, 2), (1, 1))\n",
    "    x_tensor = conv2d_maxpool(x_tensor, 32, (2, 2), (2, 2), (2, 2), (1, 1))\n",
    "    x_tensor = conv2d_maxpool(x_tensor, 64, (2, 2), (2, 2), (2, 2), (1, 1))\n",
    "    \n",
    "    # Apply a Flatten Layer\n",
    "    x_tensor = flatten(x_tensor)\n",
    "\n",
    "    # Apply 3 Fully Connected Layer\n",
    "    x_tensor = fully_conn(x_tensor, 500)\n",
    "    x_tensor = tf.nn.dropout(x_tensor, keep_prob)\n",
    "    x_tensor = fully_conn(x_tensor, 100)\n",
    "    x_tensor = tf.nn.dropout(x_tensor, keep_prob)\n",
    "    x_tensor = fully_conn(x_tensor, 50)\n",
    "    x_tensor = tf.nn.dropout(x_tensor, keep_prob)\n",
    "    \n",
    "    # Apply an Output Layer    \n",
    "    x_tensor = output(x_tensor, 10)\n",
    "\n",
    "    return x_tensor\n",
    "\n",
    "\n",
    "\"\"\"\n",
    "DON'T MODIFY ANYTHING IN THIS CELL THAT IS BELOW THIS LINE\n",
    "\"\"\"\n",
    "\n",
    "##############################\n",
    "## Build the Neural Network ##\n",
    "##############################\n",
    "\n",
    "# Remove previous weights, bias, inputs, etc..\n",
    "tf.reset_default_graph()\n",
    "\n",
    "# Inputs\n",
    "x = neural_net_image_input((32, 32, 3))\n",
    "y = neural_net_label_input(10)\n",
    "keep_prob = neural_net_keep_prob_input()\n",
    "\n",
    "# Model\n",
    "logits = conv_net(x, keep_prob)\n",
    "\n",
    "# Name logits Tensor, so that is can be loaded from disk after training\n",
    "logits = tf.identity(logits, name='logits')\n",
    "\n",
    "# Loss and Optimizer\n",
    "cost = tf.reduce_mean(tf.nn.softmax_cross_entropy_with_logits(logits=logits, labels=y))\n",
    "optimizer = tf.train.AdamOptimizer().minimize(cost)\n",
    "\n",
    "# Accuracy\n",
    "correct_pred = tf.equal(tf.argmax(logits, 1), tf.argmax(y, 1))\n",
    "accuracy = tf.reduce_mean(tf.cast(correct_pred, tf.float32), name='accuracy')\n",
    "\n",
    "tests.test_conv_net(conv_net)"
   ]
  },
  {
   "cell_type": "markdown",
   "metadata": {
    "deletable": true,
    "editable": true
   },
   "source": [
    "## Train the Neural Network\n",
    "### Single Optimization\n",
    "Implement the function `train_neural_network` to do a single optimization.  The optimization should use `optimizer` to optimize in `session` with a `feed_dict` of the following:\n",
    "* `x` for image input\n",
    "* `y` for labels\n",
    "* `keep_prob` for keep probability for dropout\n",
    "\n",
    "This function will be called for each batch, so `tf.global_variables_initializer()` has already been called.\n",
    "\n",
    "Note: Nothing needs to be returned. This function is only optimizing the neural network."
   ]
  },
  {
   "cell_type": "code",
   "execution_count": 13,
   "metadata": {
    "collapsed": false,
    "deletable": true,
    "editable": true
   },
   "outputs": [
    {
     "name": "stdout",
     "output_type": "stream",
     "text": [
      "Tests Passed\n"
     ]
    }
   ],
   "source": [
    "def train_neural_network(session, optimizer, keep_probability, feature_batch, label_batch):\n",
    "    \"\"\"\n",
    "    Optimize the session on a batch of images and labels\n",
    "    : session: Current TensorFlow session\n",
    "    : optimizer: TensorFlow optimizer function\n",
    "    : keep_probability: keep probability\n",
    "    : feature_batch: Batch of Numpy image data\n",
    "    : label_batch: Batch of Numpy label data\n",
    "    \"\"\"\n",
    "    session.run(\n",
    "        optimizer,\n",
    "        feed_dict={\n",
    "            'x:0': feature_batch,\n",
    "            'y:0': label_batch,\n",
    "            'keep_prob:0': keep_probability\n",
    "        }\n",
    "    )\n",
    "\n",
    "\n",
    "\"\"\"\n",
    "DON'T MODIFY ANYTHING IN THIS CELL THAT IS BELOW THIS LINE\n",
    "\"\"\"\n",
    "tests.test_train_nn(train_neural_network)"
   ]
  },
  {
   "cell_type": "markdown",
   "metadata": {
    "deletable": true,
    "editable": true
   },
   "source": [
    "### Show Stats\n",
    "Implement the function `print_stats` to print loss and validation accuracy.  Use the global variables `valid_features` and `valid_labels` to calculate validation accuracy.  Use a keep probability of `1.0` to calculate the loss and validation accuracy."
   ]
  },
  {
   "cell_type": "code",
   "execution_count": 14,
   "metadata": {
    "collapsed": false,
    "deletable": true,
    "editable": true
   },
   "outputs": [],
   "source": [
    "def print_stats(session, feature_batch, label_batch, cost, accuracy):\n",
    "    \"\"\"\n",
    "    Print information about loss and validation accuracy\n",
    "    : session: Current TensorFlow session\n",
    "    : feature_batch: Batch of Numpy image data\n",
    "    : label_batch: Batch of Numpy label data\n",
    "    : cost: TensorFlow cost function\n",
    "    : accuracy: TensorFlow accuracy function\n",
    "    \"\"\"\n",
    "    loss_value = session.run(cost, feed_dict={'x:0': feature_batch, 'y:0': label_batch, 'keep_prob:0': 1.0})\n",
    "    accuracy_value = session.run(accuracy, feed_dict={'x:0': valid_features, 'y:0': valid_labels, 'keep_prob:0': 1.0})\n",
    "    print(\"Loss: {:5.4f} Accuracy: {:5.4f}\".format(loss_value, accuracy_value))"
   ]
  },
  {
   "cell_type": "markdown",
   "metadata": {
    "deletable": true,
    "editable": true
   },
   "source": [
    "### Hyperparameters\n",
    "Tune the following parameters:\n",
    "* Set `epochs` to the number of iterations until the network stops learning or start overfitting\n",
    "* Set `batch_size` to the highest number that your machine has memory for.  Most people set them to common sizes of memory:\n",
    " * 64\n",
    " * 128\n",
    " * 256\n",
    " * ...\n",
    "* Set `keep_probability` to the probability of keeping a node using dropout"
   ]
  },
  {
   "cell_type": "code",
   "execution_count": 15,
   "metadata": {
    "collapsed": true,
    "deletable": true,
    "editable": true
   },
   "outputs": [],
   "source": [
    "# TODO: Tune Parameters\n",
    "epochs = 50\n",
    "batch_size = 128\n",
    "keep_probability = 0.5"
   ]
  },
  {
   "cell_type": "markdown",
   "metadata": {
    "deletable": true,
    "editable": true
   },
   "source": [
    "### Train on a Single CIFAR-10 Batch\n",
    "Instead of training the neural network on all the CIFAR-10 batches of data, let's use a single batch. This should save time while you iterate on the model to get a better accuracy.  Once the final validation accuracy is 50% or greater, run the model on all the data in the next section."
   ]
  },
  {
   "cell_type": "code",
   "execution_count": 16,
   "metadata": {
    "collapsed": false,
    "deletable": true,
    "editable": true
   },
   "outputs": [
    {
     "name": "stdout",
     "output_type": "stream",
     "text": [
      "Checking the Training on a Single Batch...\n",
      "Epoch  1, CIFAR-10 Batch 1:  Loss: 2.2263 Accuracy: 0.1724\n",
      "Epoch  2, CIFAR-10 Batch 1:  Loss: 2.1567 Accuracy: 0.2026\n",
      "Epoch  3, CIFAR-10 Batch 1:  Loss: 2.0655 Accuracy: 0.2514\n",
      "Epoch  4, CIFAR-10 Batch 1:  Loss: 1.9111 Accuracy: 0.3168\n",
      "Epoch  5, CIFAR-10 Batch 1:  Loss: 1.8547 Accuracy: 0.3312\n",
      "Epoch  6, CIFAR-10 Batch 1:  Loss: 1.7443 Accuracy: 0.3514\n",
      "Epoch  7, CIFAR-10 Batch 1:  Loss: 1.6737 Accuracy: 0.3718\n",
      "Epoch  8, CIFAR-10 Batch 1:  Loss: 1.5621 Accuracy: 0.3912\n",
      "Epoch  9, CIFAR-10 Batch 1:  Loss: 1.5523 Accuracy: 0.3920\n",
      "Epoch 10, CIFAR-10 Batch 1:  Loss: 1.5032 Accuracy: 0.3988\n",
      "Epoch 11, CIFAR-10 Batch 1:  Loss: 1.4737 Accuracy: 0.3970\n",
      "Epoch 12, CIFAR-10 Batch 1:  Loss: 1.3540 Accuracy: 0.4436\n",
      "Epoch 13, CIFAR-10 Batch 1:  Loss: 1.3161 Accuracy: 0.4476\n",
      "Epoch 14, CIFAR-10 Batch 1:  Loss: 1.3400 Accuracy: 0.4312\n",
      "Epoch 15, CIFAR-10 Batch 1:  Loss: 1.1409 Accuracy: 0.4484\n",
      "Epoch 16, CIFAR-10 Batch 1:  Loss: 1.0987 Accuracy: 0.4514\n",
      "Epoch 17, CIFAR-10 Batch 1:  Loss: 1.0915 Accuracy: 0.4688\n",
      "Epoch 18, CIFAR-10 Batch 1:  Loss: 1.0327 Accuracy: 0.4722\n",
      "Epoch 19, CIFAR-10 Batch 1:  Loss: 1.0048 Accuracy: 0.4758\n",
      "Epoch 20, CIFAR-10 Batch 1:  Loss: 0.9629 Accuracy: 0.4712\n",
      "Epoch 21, CIFAR-10 Batch 1:  Loss: 0.9216 Accuracy: 0.4928\n",
      "Epoch 22, CIFAR-10 Batch 1:  Loss: 0.8802 Accuracy: 0.4840\n",
      "Epoch 23, CIFAR-10 Batch 1:  Loss: 0.8544 Accuracy: 0.4866\n",
      "Epoch 24, CIFAR-10 Batch 1:  Loss: 0.8307 Accuracy: 0.4870\n",
      "Epoch 25, CIFAR-10 Batch 1:  Loss: 0.7904 Accuracy: 0.4966\n",
      "Epoch 26, CIFAR-10 Batch 1:  Loss: 0.7579 Accuracy: 0.5074\n",
      "Epoch 27, CIFAR-10 Batch 1:  Loss: 0.7715 Accuracy: 0.5174\n",
      "Epoch 28, CIFAR-10 Batch 1:  Loss: 0.6754 Accuracy: 0.5184\n",
      "Epoch 29, CIFAR-10 Batch 1:  Loss: 0.6602 Accuracy: 0.5246\n",
      "Epoch 30, CIFAR-10 Batch 1:  Loss: 0.6603 Accuracy: 0.5108\n",
      "Epoch 31, CIFAR-10 Batch 1:  Loss: 0.6009 Accuracy: 0.5060\n",
      "Epoch 32, CIFAR-10 Batch 1:  Loss: 0.5681 Accuracy: 0.5296\n",
      "Epoch 33, CIFAR-10 Batch 1:  Loss: 0.5634 Accuracy: 0.5076\n",
      "Epoch 34, CIFAR-10 Batch 1:  Loss: 0.5262 Accuracy: 0.5214\n",
      "Epoch 35, CIFAR-10 Batch 1:  Loss: 0.5196 Accuracy: 0.5122\n",
      "Epoch 36, CIFAR-10 Batch 1:  Loss: 0.5274 Accuracy: 0.5182\n",
      "Epoch 37, CIFAR-10 Batch 1:  Loss: 0.4743 Accuracy: 0.5236\n",
      "Epoch 38, CIFAR-10 Batch 1:  Loss: 0.4710 Accuracy: 0.5214\n",
      "Epoch 39, CIFAR-10 Batch 1:  Loss: 0.4940 Accuracy: 0.5018\n",
      "Epoch 40, CIFAR-10 Batch 1:  Loss: 0.4634 Accuracy: 0.5162\n",
      "Epoch 41, CIFAR-10 Batch 1:  Loss: 0.4547 Accuracy: 0.5178\n",
      "Epoch 42, CIFAR-10 Batch 1:  Loss: 0.3989 Accuracy: 0.5146\n",
      "Epoch 43, CIFAR-10 Batch 1:  Loss: 0.3905 Accuracy: 0.5212\n",
      "Epoch 44, CIFAR-10 Batch 1:  Loss: 0.3757 Accuracy: 0.4938\n",
      "Epoch 45, CIFAR-10 Batch 1:  Loss: 0.3721 Accuracy: 0.5074\n",
      "Epoch 46, CIFAR-10 Batch 1:  Loss: 0.3889 Accuracy: 0.5144\n",
      "Epoch 47, CIFAR-10 Batch 1:  Loss: 0.3377 Accuracy: 0.5012\n",
      "Epoch 48, CIFAR-10 Batch 1:  Loss: 0.3354 Accuracy: 0.5034\n",
      "Epoch 49, CIFAR-10 Batch 1:  Loss: 0.3429 Accuracy: 0.4928\n",
      "Epoch 50, CIFAR-10 Batch 1:  Loss: 0.3065 Accuracy: 0.4982\n"
     ]
    }
   ],
   "source": [
    "\"\"\"\n",
    "DON'T MODIFY ANYTHING IN THIS CELL\n",
    "\"\"\"\n",
    "print('Checking the Training on a Single Batch...')\n",
    "with tf.Session() as sess:\n",
    "    # Initializing the variables\n",
    "    sess.run(tf.global_variables_initializer())\n",
    "    \n",
    "    # Training cycle\n",
    "    for epoch in range(epochs):\n",
    "        batch_i = 1\n",
    "        for batch_features, batch_labels in helper.load_preprocess_training_batch(batch_i, batch_size):\n",
    "            train_neural_network(sess, optimizer, keep_probability, batch_features, batch_labels)\n",
    "        print('Epoch {:>2}, CIFAR-10 Batch {}:  '.format(epoch + 1, batch_i), end='')\n",
    "        print_stats(sess, batch_features, batch_labels, cost, accuracy)"
   ]
  },
  {
   "cell_type": "markdown",
   "metadata": {
    "deletable": true,
    "editable": true
   },
   "source": [
    "### Fully Train the Model\n",
    "Now that you got a good accuracy with a single CIFAR-10 batch, try it with all five batches."
   ]
  },
  {
   "cell_type": "code",
   "execution_count": 17,
   "metadata": {
    "collapsed": false,
    "deletable": true,
    "editable": true
   },
   "outputs": [
    {
     "name": "stdout",
     "output_type": "stream",
     "text": [
      "Training...\n",
      "Epoch  1, CIFAR-10 Batch 1:  Loss: 2.2473 Accuracy: 0.1608\n",
      "Epoch  1, CIFAR-10 Batch 2:  Loss: 2.0712 Accuracy: 0.2412\n",
      "Epoch  1, CIFAR-10 Batch 3:  Loss: 1.7357 Accuracy: 0.2712\n",
      "Epoch  1, CIFAR-10 Batch 4:  Loss: 1.8387 Accuracy: 0.3124\n",
      "Epoch  1, CIFAR-10 Batch 5:  Loss: 1.6903 Accuracy: 0.3360\n",
      "Epoch  2, CIFAR-10 Batch 1:  Loss: 2.0511 Accuracy: 0.3462\n",
      "Epoch  2, CIFAR-10 Batch 2:  Loss: 1.6865 Accuracy: 0.3842\n",
      "Epoch  2, CIFAR-10 Batch 3:  Loss: 1.4450 Accuracy: 0.3796\n",
      "Epoch  2, CIFAR-10 Batch 4:  Loss: 1.5581 Accuracy: 0.4074\n",
      "Epoch  2, CIFAR-10 Batch 5:  Loss: 1.6374 Accuracy: 0.3972\n",
      "Epoch  3, CIFAR-10 Batch 1:  Loss: 1.6989 Accuracy: 0.4110\n",
      "Epoch  3, CIFAR-10 Batch 2:  Loss: 1.4259 Accuracy: 0.4380\n",
      "Epoch  3, CIFAR-10 Batch 3:  Loss: 1.2888 Accuracy: 0.4396\n",
      "Epoch  3, CIFAR-10 Batch 4:  Loss: 1.4296 Accuracy: 0.4470\n",
      "Epoch  3, CIFAR-10 Batch 5:  Loss: 1.4277 Accuracy: 0.4532\n",
      "Epoch  4, CIFAR-10 Batch 1:  Loss: 1.5458 Accuracy: 0.4472\n",
      "Epoch  4, CIFAR-10 Batch 2:  Loss: 1.3627 Accuracy: 0.4806\n",
      "Epoch  4, CIFAR-10 Batch 3:  Loss: 1.2082 Accuracy: 0.4844\n",
      "Epoch  4, CIFAR-10 Batch 4:  Loss: 1.2332 Accuracy: 0.4904\n",
      "Epoch  4, CIFAR-10 Batch 5:  Loss: 1.3723 Accuracy: 0.4800\n",
      "Epoch  5, CIFAR-10 Batch 1:  Loss: 1.3755 Accuracy: 0.4974\n",
      "Epoch  5, CIFAR-10 Batch 2:  Loss: 1.2162 Accuracy: 0.4942\n",
      "Epoch  5, CIFAR-10 Batch 3:  Loss: 1.1020 Accuracy: 0.5028\n",
      "Epoch  5, CIFAR-10 Batch 4:  Loss: 1.1539 Accuracy: 0.5196\n",
      "Epoch  5, CIFAR-10 Batch 5:  Loss: 1.1995 Accuracy: 0.5122\n",
      "Epoch  6, CIFAR-10 Batch 1:  Loss: 1.2560 Accuracy: 0.5296\n",
      "Epoch  6, CIFAR-10 Batch 2:  Loss: 1.1506 Accuracy: 0.5312\n",
      "Epoch  6, CIFAR-10 Batch 3:  Loss: 0.9632 Accuracy: 0.5280\n",
      "Epoch  6, CIFAR-10 Batch 4:  Loss: 1.1216 Accuracy: 0.5214\n",
      "Epoch  6, CIFAR-10 Batch 5:  Loss: 1.1246 Accuracy: 0.5362\n",
      "Epoch  7, CIFAR-10 Batch 1:  Loss: 1.1738 Accuracy: 0.5306\n",
      "Epoch  7, CIFAR-10 Batch 2:  Loss: 1.0938 Accuracy: 0.5566\n",
      "Epoch  7, CIFAR-10 Batch 3:  Loss: 0.9678 Accuracy: 0.5426\n",
      "Epoch  7, CIFAR-10 Batch 4:  Loss: 1.0702 Accuracy: 0.5520\n",
      "Epoch  7, CIFAR-10 Batch 5:  Loss: 1.0541 Accuracy: 0.5378\n",
      "Epoch  8, CIFAR-10 Batch 1:  Loss: 1.0410 Accuracy: 0.5578\n",
      "Epoch  8, CIFAR-10 Batch 2:  Loss: 1.0422 Accuracy: 0.5734\n",
      "Epoch  8, CIFAR-10 Batch 3:  Loss: 0.8550 Accuracy: 0.5506\n",
      "Epoch  8, CIFAR-10 Batch 4:  Loss: 0.9935 Accuracy: 0.5756\n",
      "Epoch  8, CIFAR-10 Batch 5:  Loss: 1.0232 Accuracy: 0.5510\n",
      "Epoch  9, CIFAR-10 Batch 1:  Loss: 0.9358 Accuracy: 0.5748\n",
      "Epoch  9, CIFAR-10 Batch 2:  Loss: 1.0033 Accuracy: 0.5828\n",
      "Epoch  9, CIFAR-10 Batch 3:  Loss: 0.8330 Accuracy: 0.5674\n",
      "Epoch  9, CIFAR-10 Batch 4:  Loss: 0.9591 Accuracy: 0.5810\n",
      "Epoch  9, CIFAR-10 Batch 5:  Loss: 0.9521 Accuracy: 0.5486\n",
      "Epoch 10, CIFAR-10 Batch 1:  Loss: 0.8789 Accuracy: 0.5852\n",
      "Epoch 10, CIFAR-10 Batch 2:  Loss: 1.0299 Accuracy: 0.5806\n",
      "Epoch 10, CIFAR-10 Batch 3:  Loss: 0.7822 Accuracy: 0.5814\n",
      "Epoch 10, CIFAR-10 Batch 4:  Loss: 0.9496 Accuracy: 0.6006\n",
      "Epoch 10, CIFAR-10 Batch 5:  Loss: 0.8631 Accuracy: 0.5834\n",
      "Epoch 11, CIFAR-10 Batch 1:  Loss: 0.8279 Accuracy: 0.5932\n",
      "Epoch 11, CIFAR-10 Batch 2:  Loss: 0.8943 Accuracy: 0.6074\n",
      "Epoch 11, CIFAR-10 Batch 3:  Loss: 0.7865 Accuracy: 0.5802\n",
      "Epoch 11, CIFAR-10 Batch 4:  Loss: 0.8431 Accuracy: 0.6102\n",
      "Epoch 11, CIFAR-10 Batch 5:  Loss: 0.7991 Accuracy: 0.5790\n",
      "Epoch 12, CIFAR-10 Batch 1:  Loss: 0.7782 Accuracy: 0.6048\n",
      "Epoch 12, CIFAR-10 Batch 2:  Loss: 0.8474 Accuracy: 0.6044\n",
      "Epoch 12, CIFAR-10 Batch 3:  Loss: 0.6837 Accuracy: 0.5784\n",
      "Epoch 12, CIFAR-10 Batch 4:  Loss: 0.8096 Accuracy: 0.6108\n",
      "Epoch 12, CIFAR-10 Batch 5:  Loss: 0.7370 Accuracy: 0.5988\n",
      "Epoch 13, CIFAR-10 Batch 1:  Loss: 0.7099 Accuracy: 0.5958\n",
      "Epoch 13, CIFAR-10 Batch 2:  Loss: 0.7944 Accuracy: 0.6074\n",
      "Epoch 13, CIFAR-10 Batch 3:  Loss: 0.6412 Accuracy: 0.5996\n",
      "Epoch 13, CIFAR-10 Batch 4:  Loss: 0.7712 Accuracy: 0.6180\n",
      "Epoch 13, CIFAR-10 Batch 5:  Loss: 0.6699 Accuracy: 0.5984\n",
      "Epoch 14, CIFAR-10 Batch 1:  Loss: 0.7405 Accuracy: 0.6054\n",
      "Epoch 14, CIFAR-10 Batch 2:  Loss: 0.7558 Accuracy: 0.6234\n",
      "Epoch 14, CIFAR-10 Batch 3:  Loss: 0.6634 Accuracy: 0.6128\n",
      "Epoch 14, CIFAR-10 Batch 4:  Loss: 0.7352 Accuracy: 0.6234\n",
      "Epoch 14, CIFAR-10 Batch 5:  Loss: 0.6561 Accuracy: 0.6044\n",
      "Epoch 15, CIFAR-10 Batch 1:  Loss: 0.6647 Accuracy: 0.6050\n",
      "Epoch 15, CIFAR-10 Batch 2:  Loss: 0.6779 Accuracy: 0.6264\n",
      "Epoch 15, CIFAR-10 Batch 3:  Loss: 0.6553 Accuracy: 0.6064\n",
      "Epoch 15, CIFAR-10 Batch 4:  Loss: 0.7478 Accuracy: 0.6206\n",
      "Epoch 15, CIFAR-10 Batch 5:  Loss: 0.6337 Accuracy: 0.6240\n",
      "Epoch 16, CIFAR-10 Batch 1:  Loss: 0.6672 Accuracy: 0.6278\n",
      "Epoch 16, CIFAR-10 Batch 2:  Loss: 0.6094 Accuracy: 0.6144\n",
      "Epoch 16, CIFAR-10 Batch 3:  Loss: 0.6435 Accuracy: 0.6134\n",
      "Epoch 16, CIFAR-10 Batch 4:  Loss: 0.6591 Accuracy: 0.6374\n",
      "Epoch 16, CIFAR-10 Batch 5:  Loss: 0.6198 Accuracy: 0.6202\n",
      "Epoch 17, CIFAR-10 Batch 1:  Loss: 0.6960 Accuracy: 0.6144\n",
      "Epoch 17, CIFAR-10 Batch 2:  Loss: 0.6211 Accuracy: 0.6270\n",
      "Epoch 17, CIFAR-10 Batch 3:  Loss: 0.5547 Accuracy: 0.6252\n",
      "Epoch 17, CIFAR-10 Batch 4:  Loss: 0.6431 Accuracy: 0.6210\n",
      "Epoch 17, CIFAR-10 Batch 5:  Loss: 0.5638 Accuracy: 0.6262\n",
      "Epoch 18, CIFAR-10 Batch 1:  Loss: 0.6406 Accuracy: 0.6340\n",
      "Epoch 18, CIFAR-10 Batch 2:  Loss: 0.6282 Accuracy: 0.6106\n",
      "Epoch 18, CIFAR-10 Batch 3:  Loss: 0.4901 Accuracy: 0.6122\n",
      "Epoch 18, CIFAR-10 Batch 4:  Loss: 0.5550 Accuracy: 0.6280\n",
      "Epoch 18, CIFAR-10 Batch 5:  Loss: 0.5393 Accuracy: 0.6278\n",
      "Epoch 19, CIFAR-10 Batch 1:  Loss: 0.5545 Accuracy: 0.6322\n",
      "Epoch 19, CIFAR-10 Batch 2:  Loss: 0.6854 Accuracy: 0.6186\n",
      "Epoch 19, CIFAR-10 Batch 3:  Loss: 0.5135 Accuracy: 0.6222\n",
      "Epoch 19, CIFAR-10 Batch 4:  Loss: 0.5784 Accuracy: 0.6336\n",
      "Epoch 19, CIFAR-10 Batch 5:  Loss: 0.5007 Accuracy: 0.6202\n",
      "Epoch 20, CIFAR-10 Batch 1:  Loss: 0.5531 Accuracy: 0.6288\n",
      "Epoch 20, CIFAR-10 Batch 2:  Loss: 0.6077 Accuracy: 0.6156\n",
      "Epoch 20, CIFAR-10 Batch 3:  Loss: 0.4709 Accuracy: 0.6248\n",
      "Epoch 20, CIFAR-10 Batch 4:  Loss: 0.5978 Accuracy: 0.6366\n",
      "Epoch 20, CIFAR-10 Batch 5:  Loss: 0.4855 Accuracy: 0.6356\n",
      "Epoch 21, CIFAR-10 Batch 1:  Loss: 0.5856 Accuracy: 0.6468\n",
      "Epoch 21, CIFAR-10 Batch 2:  Loss: 0.6357 Accuracy: 0.6370\n",
      "Epoch 21, CIFAR-10 Batch 3:  Loss: 0.4414 Accuracy: 0.6338\n",
      "Epoch 21, CIFAR-10 Batch 4:  Loss: 0.5485 Accuracy: 0.6482\n",
      "Epoch 21, CIFAR-10 Batch 5:  Loss: 0.5034 Accuracy: 0.6352\n",
      "Epoch 22, CIFAR-10 Batch 1:  Loss: 0.5429 Accuracy: 0.6382\n",
      "Epoch 22, CIFAR-10 Batch 2:  Loss: 0.5522 Accuracy: 0.6384\n",
      "Epoch 22, CIFAR-10 Batch 3:  Loss: 0.4081 Accuracy: 0.6410\n",
      "Epoch 22, CIFAR-10 Batch 4:  Loss: 0.5173 Accuracy: 0.6412\n",
      "Epoch 22, CIFAR-10 Batch 5:  Loss: 0.4280 Accuracy: 0.6384\n",
      "Epoch 23, CIFAR-10 Batch 1:  Loss: 0.5040 Accuracy: 0.6364\n",
      "Epoch 23, CIFAR-10 Batch 2:  Loss: 0.6007 Accuracy: 0.6418\n",
      "Epoch 23, CIFAR-10 Batch 3:  Loss: 0.4366 Accuracy: 0.6362\n",
      "Epoch 23, CIFAR-10 Batch 4:  Loss: 0.5106 Accuracy: 0.6596\n",
      "Epoch 23, CIFAR-10 Batch 5:  Loss: 0.4013 Accuracy: 0.6466\n",
      "Epoch 24, CIFAR-10 Batch 1:  Loss: 0.4902 Accuracy: 0.6414\n",
      "Epoch 24, CIFAR-10 Batch 2:  Loss: 0.4930 Accuracy: 0.6382\n",
      "Epoch 24, CIFAR-10 Batch 3:  Loss: 0.4169 Accuracy: 0.6408\n",
      "Epoch 24, CIFAR-10 Batch 4:  Loss: 0.4999 Accuracy: 0.6534\n",
      "Epoch 24, CIFAR-10 Batch 5:  Loss: 0.4022 Accuracy: 0.6498\n",
      "Epoch 25, CIFAR-10 Batch 1:  Loss: 0.4346 Accuracy: 0.6490\n",
      "Epoch 25, CIFAR-10 Batch 2:  Loss: 0.4890 Accuracy: 0.6470\n",
      "Epoch 25, CIFAR-10 Batch 3:  Loss: 0.4015 Accuracy: 0.6558\n",
      "Epoch 25, CIFAR-10 Batch 4:  Loss: 0.4808 Accuracy: 0.6496\n",
      "Epoch 25, CIFAR-10 Batch 5:  Loss: 0.3914 Accuracy: 0.6512\n",
      "Epoch 26, CIFAR-10 Batch 1:  Loss: 0.4320 Accuracy: 0.6502\n",
      "Epoch 26, CIFAR-10 Batch 2:  Loss: 0.5160 Accuracy: 0.6534\n",
      "Epoch 26, CIFAR-10 Batch 3:  Loss: 0.3677 Accuracy: 0.6424\n",
      "Epoch 26, CIFAR-10 Batch 4:  Loss: 0.4662 Accuracy: 0.6516\n",
      "Epoch 26, CIFAR-10 Batch 5:  Loss: 0.3535 Accuracy: 0.6482\n",
      "Epoch 27, CIFAR-10 Batch 1:  Loss: 0.4444 Accuracy: 0.6560\n",
      "Epoch 27, CIFAR-10 Batch 2:  Loss: 0.4481 Accuracy: 0.6454\n",
      "Epoch 27, CIFAR-10 Batch 3:  Loss: 0.3695 Accuracy: 0.6526\n",
      "Epoch 27, CIFAR-10 Batch 4:  Loss: 0.4597 Accuracy: 0.6436\n",
      "Epoch 27, CIFAR-10 Batch 5:  Loss: 0.3603 Accuracy: 0.6518\n",
      "Epoch 28, CIFAR-10 Batch 1:  Loss: 0.3570 Accuracy: 0.6434\n",
      "Epoch 28, CIFAR-10 Batch 2:  Loss: 0.4659 Accuracy: 0.6506\n",
      "Epoch 28, CIFAR-10 Batch 3:  Loss: 0.3891 Accuracy: 0.6542\n",
      "Epoch 28, CIFAR-10 Batch 4:  Loss: 0.3930 Accuracy: 0.6638\n",
      "Epoch 28, CIFAR-10 Batch 5:  Loss: 0.3603 Accuracy: 0.6554\n",
      "Epoch 29, CIFAR-10 Batch 1:  Loss: 0.3596 Accuracy: 0.6420\n",
      "Epoch 29, CIFAR-10 Batch 2:  Loss: 0.4260 Accuracy: 0.6588\n",
      "Epoch 29, CIFAR-10 Batch 3:  Loss: 0.3678 Accuracy: 0.6612\n",
      "Epoch 29, CIFAR-10 Batch 4:  Loss: 0.3953 Accuracy: 0.6534\n",
      "Epoch 29, CIFAR-10 Batch 5:  Loss: 0.3509 Accuracy: 0.6510\n",
      "Epoch 30, CIFAR-10 Batch 1:  Loss: 0.4056 Accuracy: 0.6490\n",
      "Epoch 30, CIFAR-10 Batch 2:  Loss: 0.5266 Accuracy: 0.6532\n",
      "Epoch 30, CIFAR-10 Batch 3:  Loss: 0.4051 Accuracy: 0.6528\n",
      "Epoch 30, CIFAR-10 Batch 4:  Loss: 0.3621 Accuracy: 0.6498\n",
      "Epoch 30, CIFAR-10 Batch 5:  Loss: 0.3133 Accuracy: 0.6462\n",
      "Epoch 31, CIFAR-10 Batch 1:  Loss: 0.3569 Accuracy: 0.6426\n",
      "Epoch 31, CIFAR-10 Batch 2:  Loss: 0.3960 Accuracy: 0.6576\n",
      "Epoch 31, CIFAR-10 Batch 3:  Loss: 0.3213 Accuracy: 0.6580\n",
      "Epoch 31, CIFAR-10 Batch 4:  Loss: 0.3792 Accuracy: 0.6592\n",
      "Epoch 31, CIFAR-10 Batch 5:  Loss: 0.3017 Accuracy: 0.6604\n",
      "Epoch 32, CIFAR-10 Batch 1:  Loss: 0.4107 Accuracy: 0.6544\n",
      "Epoch 32, CIFAR-10 Batch 2:  Loss: 0.3790 Accuracy: 0.6586\n",
      "Epoch 32, CIFAR-10 Batch 3:  Loss: 0.3618 Accuracy: 0.6630\n",
      "Epoch 32, CIFAR-10 Batch 4:  Loss: 0.3190 Accuracy: 0.6602\n",
      "Epoch 32, CIFAR-10 Batch 5:  Loss: 0.2805 Accuracy: 0.6570\n",
      "Epoch 33, CIFAR-10 Batch 1:  Loss: 0.3389 Accuracy: 0.6496\n",
      "Epoch 33, CIFAR-10 Batch 2:  Loss: 0.3654 Accuracy: 0.6532\n",
      "Epoch 33, CIFAR-10 Batch 3:  Loss: 0.3579 Accuracy: 0.6594\n",
      "Epoch 33, CIFAR-10 Batch 4:  Loss: 0.3911 Accuracy: 0.6504\n",
      "Epoch 33, CIFAR-10 Batch 5:  Loss: 0.2822 Accuracy: 0.6606\n",
      "Epoch 34, CIFAR-10 Batch 1:  Loss: 0.3281 Accuracy: 0.6644\n",
      "Epoch 34, CIFAR-10 Batch 2:  Loss: 0.3193 Accuracy: 0.6580\n",
      "Epoch 34, CIFAR-10 Batch 3:  Loss: 0.3672 Accuracy: 0.6446\n",
      "Epoch 34, CIFAR-10 Batch 4:  Loss: 0.3481 Accuracy: 0.6622\n",
      "Epoch 34, CIFAR-10 Batch 5:  Loss: 0.2547 Accuracy: 0.6560\n",
      "Epoch 35, CIFAR-10 Batch 1:  Loss: 0.3211 Accuracy: 0.6544\n",
      "Epoch 35, CIFAR-10 Batch 2:  Loss: 0.3697 Accuracy: 0.6638\n",
      "Epoch 35, CIFAR-10 Batch 3:  Loss: 0.3244 Accuracy: 0.6662\n",
      "Epoch 35, CIFAR-10 Batch 4:  Loss: 0.3017 Accuracy: 0.6620\n",
      "Epoch 35, CIFAR-10 Batch 5:  Loss: 0.2704 Accuracy: 0.6554\n",
      "Epoch 36, CIFAR-10 Batch 1:  Loss: 0.3510 Accuracy: 0.6620\n",
      "Epoch 36, CIFAR-10 Batch 2:  Loss: 0.3559 Accuracy: 0.6542\n",
      "Epoch 36, CIFAR-10 Batch 3:  Loss: 0.3551 Accuracy: 0.6578\n",
      "Epoch 36, CIFAR-10 Batch 4:  Loss: 0.3129 Accuracy: 0.6566\n",
      "Epoch 36, CIFAR-10 Batch 5:  Loss: 0.2725 Accuracy: 0.6450\n",
      "Epoch 37, CIFAR-10 Batch 1:  Loss: 0.2771 Accuracy: 0.6626\n",
      "Epoch 37, CIFAR-10 Batch 2:  Loss: 0.3501 Accuracy: 0.6678\n",
      "Epoch 37, CIFAR-10 Batch 3:  Loss: 0.3305 Accuracy: 0.6648\n",
      "Epoch 37, CIFAR-10 Batch 4:  Loss: 0.3911 Accuracy: 0.6448\n",
      "Epoch 37, CIFAR-10 Batch 5:  Loss: 0.2780 Accuracy: 0.6570\n",
      "Epoch 38, CIFAR-10 Batch 1:  Loss: 0.3195 Accuracy: 0.6574\n",
      "Epoch 38, CIFAR-10 Batch 2:  Loss: 0.3652 Accuracy: 0.6582\n",
      "Epoch 38, CIFAR-10 Batch 3:  Loss: 0.3435 Accuracy: 0.6648\n",
      "Epoch 38, CIFAR-10 Batch 4:  Loss: 0.3315 Accuracy: 0.6614\n",
      "Epoch 38, CIFAR-10 Batch 5:  Loss: 0.2277 Accuracy: 0.6630\n",
      "Epoch 39, CIFAR-10 Batch 1:  Loss: 0.3262 Accuracy: 0.6528\n",
      "Epoch 39, CIFAR-10 Batch 2:  Loss: 0.3181 Accuracy: 0.6664\n",
      "Epoch 39, CIFAR-10 Batch 3:  Loss: 0.2821 Accuracy: 0.6678\n",
      "Epoch 39, CIFAR-10 Batch 4:  Loss: 0.3671 Accuracy: 0.6482\n",
      "Epoch 39, CIFAR-10 Batch 5:  Loss: 0.2172 Accuracy: 0.6602\n",
      "Epoch 40, CIFAR-10 Batch 1:  Loss: 0.3573 Accuracy: 0.6424\n",
      "Epoch 40, CIFAR-10 Batch 2:  Loss: 0.3122 Accuracy: 0.6640\n",
      "Epoch 40, CIFAR-10 Batch 3:  Loss: 0.2689 Accuracy: 0.6654\n",
      "Epoch 40, CIFAR-10 Batch 4:  Loss: 0.3415 Accuracy: 0.6602\n",
      "Epoch 40, CIFAR-10 Batch 5:  Loss: 0.2138 Accuracy: 0.6592\n",
      "Epoch 41, CIFAR-10 Batch 1:  Loss: 0.3129 Accuracy: 0.6606\n",
      "Epoch 41, CIFAR-10 Batch 2:  Loss: 0.3161 Accuracy: 0.6658\n",
      "Epoch 41, CIFAR-10 Batch 3:  Loss: 0.2631 Accuracy: 0.6618\n",
      "Epoch 41, CIFAR-10 Batch 4:  Loss: 0.3042 Accuracy: 0.6548\n",
      "Epoch 41, CIFAR-10 Batch 5:  Loss: 0.2171 Accuracy: 0.6696\n",
      "Epoch 42, CIFAR-10 Batch 1:  Loss: 0.3372 Accuracy: 0.6618\n",
      "Epoch 42, CIFAR-10 Batch 2:  Loss: 0.2725 Accuracy: 0.6622\n",
      "Epoch 42, CIFAR-10 Batch 3:  Loss: 0.2561 Accuracy: 0.6656\n",
      "Epoch 42, CIFAR-10 Batch 4:  Loss: 0.2719 Accuracy: 0.6614\n",
      "Epoch 42, CIFAR-10 Batch 5:  Loss: 0.2384 Accuracy: 0.6620\n",
      "Epoch 43, CIFAR-10 Batch 1:  Loss: 0.2871 Accuracy: 0.6706\n",
      "Epoch 43, CIFAR-10 Batch 2:  Loss: 0.3126 Accuracy: 0.6536\n",
      "Epoch 43, CIFAR-10 Batch 3:  Loss: 0.2446 Accuracy: 0.6554\n",
      "Epoch 43, CIFAR-10 Batch 4:  Loss: 0.3116 Accuracy: 0.6580\n",
      "Epoch 43, CIFAR-10 Batch 5:  Loss: 0.2011 Accuracy: 0.6658\n",
      "Epoch 44, CIFAR-10 Batch 1:  Loss: 0.2814 Accuracy: 0.6634\n",
      "Epoch 44, CIFAR-10 Batch 2:  Loss: 0.2813 Accuracy: 0.6560\n",
      "Epoch 44, CIFAR-10 Batch 3:  Loss: 0.2587 Accuracy: 0.6640\n",
      "Epoch 44, CIFAR-10 Batch 4:  Loss: 0.3257 Accuracy: 0.6594\n",
      "Epoch 44, CIFAR-10 Batch 5:  Loss: 0.2358 Accuracy: 0.6600\n",
      "Epoch 45, CIFAR-10 Batch 1:  Loss: 0.2918 Accuracy: 0.6640\n",
      "Epoch 45, CIFAR-10 Batch 2:  Loss: 0.3250 Accuracy: 0.6616\n",
      "Epoch 45, CIFAR-10 Batch 3:  Loss: 0.2459 Accuracy: 0.6616\n",
      "Epoch 45, CIFAR-10 Batch 4:  Loss: 0.2781 Accuracy: 0.6696\n",
      "Epoch 45, CIFAR-10 Batch 5:  Loss: 0.2443 Accuracy: 0.6596\n",
      "Epoch 46, CIFAR-10 Batch 1:  Loss: 0.2420 Accuracy: 0.6672\n",
      "Epoch 46, CIFAR-10 Batch 2:  Loss: 0.2680 Accuracy: 0.6634\n",
      "Epoch 46, CIFAR-10 Batch 3:  Loss: 0.2316 Accuracy: 0.6692\n",
      "Epoch 46, CIFAR-10 Batch 4:  Loss: 0.2835 Accuracy: 0.6650\n",
      "Epoch 46, CIFAR-10 Batch 5:  Loss: 0.2520 Accuracy: 0.6484\n",
      "Epoch 47, CIFAR-10 Batch 1:  Loss: 0.2573 Accuracy: 0.6644\n",
      "Epoch 47, CIFAR-10 Batch 2:  Loss: 0.3072 Accuracy: 0.6624\n",
      "Epoch 47, CIFAR-10 Batch 3:  Loss: 0.2341 Accuracy: 0.6632\n",
      "Epoch 47, CIFAR-10 Batch 4:  Loss: 0.2300 Accuracy: 0.6746\n",
      "Epoch 47, CIFAR-10 Batch 5:  Loss: 0.1681 Accuracy: 0.6744\n",
      "Epoch 48, CIFAR-10 Batch 1:  Loss: 0.2607 Accuracy: 0.6670\n",
      "Epoch 48, CIFAR-10 Batch 2:  Loss: 0.3377 Accuracy: 0.6452\n",
      "Epoch 48, CIFAR-10 Batch 3:  Loss: 0.2259 Accuracy: 0.6794\n",
      "Epoch 48, CIFAR-10 Batch 4:  Loss: 0.2403 Accuracy: 0.6592\n",
      "Epoch 48, CIFAR-10 Batch 5:  Loss: 0.2061 Accuracy: 0.6650\n",
      "Epoch 49, CIFAR-10 Batch 1:  Loss: 0.2415 Accuracy: 0.6620\n",
      "Epoch 49, CIFAR-10 Batch 2:  Loss: 0.3134 Accuracy: 0.6534\n",
      "Epoch 49, CIFAR-10 Batch 3:  Loss: 0.2453 Accuracy: 0.6712\n",
      "Epoch 49, CIFAR-10 Batch 4:  Loss: 0.2157 Accuracy: 0.6578\n",
      "Epoch 49, CIFAR-10 Batch 5:  Loss: 0.1763 Accuracy: 0.6642\n",
      "Epoch 50, CIFAR-10 Batch 1:  Loss: 0.2349 Accuracy: 0.6662\n",
      "Epoch 50, CIFAR-10 Batch 2:  Loss: 0.3054 Accuracy: 0.6592\n",
      "Epoch 50, CIFAR-10 Batch 3:  Loss: 0.2559 Accuracy: 0.6650\n",
      "Epoch 50, CIFAR-10 Batch 4:  Loss: 0.2284 Accuracy: 0.6666\n",
      "Epoch 50, CIFAR-10 Batch 5:  Loss: 0.1712 Accuracy: 0.6592\n"
     ]
    }
   ],
   "source": [
    "\"\"\"\n",
    "DON'T MODIFY ANYTHING IN THIS CELL\n",
    "\"\"\"\n",
    "save_model_path = './image_classification'\n",
    "\n",
    "print('Training...')\n",
    "with tf.Session() as sess:\n",
    "    # Initializing the variables\n",
    "    sess.run(tf.global_variables_initializer())\n",
    "    \n",
    "    # Training cycle\n",
    "    for epoch in range(epochs):\n",
    "        # Loop over all batches\n",
    "        n_batches = 5\n",
    "        for batch_i in range(1, n_batches + 1):\n",
    "            for batch_features, batch_labels in helper.load_preprocess_training_batch(batch_i, batch_size):\n",
    "                train_neural_network(sess, optimizer, keep_probability, batch_features, batch_labels)\n",
    "            print('Epoch {:>2}, CIFAR-10 Batch {}:  '.format(epoch + 1, batch_i), end='')\n",
    "            print_stats(sess, batch_features, batch_labels, cost, accuracy)\n",
    "            \n",
    "    # Save Model\n",
    "    saver = tf.train.Saver()\n",
    "    save_path = saver.save(sess, save_model_path)"
   ]
  },
  {
   "cell_type": "markdown",
   "metadata": {
    "deletable": true,
    "editable": true
   },
   "source": [
    "# Checkpoint\n",
    "The model has been saved to disk.\n",
    "## Test Model\n",
    "Test your model against the test dataset.  This will be your final accuracy. You should have an accuracy greater than 50%. If you don't, keep tweaking the model architecture and parameters."
   ]
  },
  {
   "cell_type": "code",
   "execution_count": 18,
   "metadata": {
    "collapsed": false,
    "deletable": true,
    "editable": true
   },
   "outputs": [
    {
     "name": "stdout",
     "output_type": "stream",
     "text": [
      "Testing Accuracy: 0.6559533227848101\n",
      "\n"
     ]
    },
    {
     "data": {
      "image/png": "[encoded data removed]",
      "text/plain": [
       "<matplotlib.figure.Figure at 0x7fb501fa1f28>"
      ]
     },
     "metadata": {
      "image/png": {
       "height": 319,
       "width": 355
      }
     },
     "output_type": "display_data"
    }
   ],
   "source": [
    "\"\"\"\n",
    "DON'T MODIFY ANYTHING IN THIS CELL\n",
    "\"\"\"\n",
    "%matplotlib inline\n",
    "%config InlineBackend.figure_format = 'retina'\n",
    "\n",
    "import tensorflow as tf\n",
    "import pickle\n",
    "import helper\n",
    "import random\n",
    "\n",
    "# Set batch size if not already set\n",
    "try:\n",
    "    if batch_size:\n",
    "        pass\n",
    "except NameError:\n",
    "    batch_size = 64\n",
    "\n",
    "save_model_path = './image_classification'\n",
    "n_samples = 4\n",
    "top_n_predictions = 3\n",
    "\n",
    "def test_model():\n",
    "    \"\"\"\n",
    "    Test the saved model against the test dataset\n",
    "    \"\"\"\n",
    "\n",
    "    test_features, test_labels = pickle.load(open('preprocess_training.p', mode='rb'))\n",
    "    loaded_graph = tf.Graph()\n",
    "\n",
    "    with tf.Session(graph=loaded_graph) as sess:\n",
    "        # Load model\n",
    "        loader = tf.train.import_meta_graph(save_model_path + '.meta')\n",
    "        loader.restore(sess, save_model_path)\n",
    "\n",
    "        # Get Tensors from loaded model\n",
    "        loaded_x = loaded_graph.get_tensor_by_name('x:0')\n",
    "        loaded_y = loaded_graph.get_tensor_by_name('y:0')\n",
    "        loaded_keep_prob = loaded_graph.get_tensor_by_name('keep_prob:0')\n",
    "        loaded_logits = loaded_graph.get_tensor_by_name('logits:0')\n",
    "        loaded_acc = loaded_graph.get_tensor_by_name('accuracy:0')\n",
    "        \n",
    "        # Get accuracy in batches for memory limitations\n",
    "        test_batch_acc_total = 0\n",
    "        test_batch_count = 0\n",
    "        \n",
    "        for train_feature_batch, train_label_batch in helper.batch_features_labels(test_features, test_labels, batch_size):\n",
    "            test_batch_acc_total += sess.run(\n",
    "                loaded_acc,\n",
    "                feed_dict={loaded_x: train_feature_batch, loaded_y: train_label_batch, loaded_keep_prob: 1.0})\n",
    "            test_batch_count += 1\n",
    "\n",
    "        print('Testing Accuracy: {}\\n'.format(test_batch_acc_total/test_batch_count))\n",
    "\n",
    "        # Print Random Samples\n",
    "        random_test_features, random_test_labels = tuple(zip(*random.sample(list(zip(test_features, test_labels)), n_samples)))\n",
    "        random_test_predictions = sess.run(\n",
    "            tf.nn.top_k(tf.nn.softmax(loaded_logits), top_n_predictions),\n",
    "            feed_dict={loaded_x: random_test_features, loaded_y: random_test_labels, loaded_keep_prob: 1.0})\n",
    "        helper.display_image_predictions(random_test_features, random_test_labels, random_test_predictions)\n",
    "\n",
    "\n",
    "test_model()"
   ]
  },
  {
   "cell_type": "markdown",
   "metadata": {
    "deletable": true,
    "editable": true
   },
   "source": [
    "## Why 50-70% Accuracy?\n",
    "You might be wondering why you can't get an accuracy any higher. First things first, 50% isn't bad for a simple CNN.  Pure guessing would get you 10% accuracy. However, you might notice people are getting scores [well above 70%](http://rodrigob.github.io/are_we_there_yet/build/classification_datasets_results.html#43494641522d3130).  That's because we haven't taught you all there is to know about neural networks. We still need to cover a few more techniques.\n",
    "## Submitting This Project\n",
    "When submitting this project, make sure to run all the cells before saving the notebook.  Save the notebook file as \"dlnd_image_classification.ipynb\" and save it as a HTML file under \"File\" -> \"Download as\".  Include the \"helper.py\" and \"problem_unittests.py\" files in your submission."
   ]
  }
 ],
 "metadata": {
  "kernelspec": {
   "display_name": "Python 3",
   "language": "python",
   "name": "python3"
  },
  "language_info": {
   "codemirror_mode": {
    "name": "ipython",
    "version": 3
   },
   "file_extension": ".py",
   "mimetype": "text/x-python",
   "name": "python",
   "nbconvert_exporter": "python",
   "pygments_lexer": "ipython3",
   "version": "3.5.2"
  },
  "widgets": {
   "state": {},
   "version": "1.1.2"
  }
 },
 "nbformat": 4,
 "nbformat_minor": 0
}
